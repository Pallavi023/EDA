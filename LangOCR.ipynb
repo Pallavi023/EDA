{
  "nbformat": 4,
  "nbformat_minor": 0,
  "metadata": {
    "colab": {
      "provenance": [],
      "authorship_tag": "ABX9TyPycdhIGaOivfemj9wPpC9V",
      "include_colab_link": true
    },
    "kernelspec": {
      "name": "python3",
      "display_name": "Python 3"
    },
    "language_info": {
      "name": "python"
    }
  },
  "cells": [
    {
      "cell_type": "markdown",
      "metadata": {
        "id": "view-in-github",
        "colab_type": "text"
      },
      "source": [
        "<a href=\"https://colab.research.google.com/github/Pallavi023/EDA/blob/main/LangOCR.ipynb\" target=\"_parent\"><img src=\"https://colab.research.google.com/assets/colab-badge.svg\" alt=\"Open In Colab\"/></a>"
      ]
    },
    {
      "cell_type": "code",
      "source": [
        "!pip install pytesseract\n",
        "!pip install langdetect"
      ],
      "metadata": {
        "colab": {
          "base_uri": "https://localhost:8080/"
        },
        "id": "ofdJ4KCIMTTZ",
        "outputId": "88706e22-ee6c-48fa-8d2a-172f3093b0d7"
      },
      "execution_count": null,
      "outputs": [
        {
          "output_type": "stream",
          "name": "stdout",
          "text": [
            "Requirement already satisfied: pytesseract in /usr/local/lib/python3.10/dist-packages (0.3.13)\n",
            "Requirement already satisfied: packaging>=21.3 in /usr/local/lib/python3.10/dist-packages (from pytesseract) (24.1)\n",
            "Requirement already satisfied: Pillow>=8.0.0 in /usr/local/lib/python3.10/dist-packages (from pytesseract) (10.4.0)\n",
            "Collecting langdetect\n",
            "  Downloading langdetect-1.0.9.tar.gz (981 kB)\n",
            "\u001b[2K     \u001b[90m━━━━━━━━━━━━━━━━━━━━━━━━━━━━━━━━━━━━━━━━\u001b[0m \u001b[32m981.5/981.5 kB\u001b[0m \u001b[31m12.4 MB/s\u001b[0m eta \u001b[36m0:00:00\u001b[0m\n",
            "\u001b[?25h  Preparing metadata (setup.py) ... \u001b[?25l\u001b[?25hdone\n",
            "Requirement already satisfied: six in /usr/local/lib/python3.10/dist-packages (from langdetect) (1.16.0)\n",
            "Building wheels for collected packages: langdetect\n",
            "  Building wheel for langdetect (setup.py) ... \u001b[?25l\u001b[?25hdone\n",
            "  Created wheel for langdetect: filename=langdetect-1.0.9-py3-none-any.whl size=993221 sha256=db73f735b428f44b3954ecc87ac5956669f3f0444c57fa6f1096b49c787ddde1\n",
            "  Stored in directory: /root/.cache/pip/wheels/95/03/7d/59ea870c70ce4e5a370638b5462a7711ab78fba2f655d05106\n",
            "Successfully built langdetect\n",
            "Installing collected packages: langdetect\n",
            "Successfully installed langdetect-1.0.9\n"
          ]
        }
      ]
    },
    {
      "cell_type": "code",
      "execution_count": null,
      "metadata": {
        "colab": {
          "base_uri": "https://localhost:8080/"
        },
        "id": "n3_A95u1MFnX",
        "outputId": "e594ca8d-64c0-4c74-c592-7362e33cf564"
      },
      "outputs": [
        {
          "output_type": "stream",
          "name": "stdout",
          "text": [
            "\r0% [Working]\r            \rHit:1 http://security.ubuntu.com/ubuntu jammy-security InRelease\n",
            "\r0% [Waiting for headers] [Connected to cloud.r-project.org (108.139.15.91)] [Connecting to r2u.stat.\r                                                                                                    \rHit:2 http://archive.ubuntu.com/ubuntu jammy InRelease\n",
            "\r0% [Waiting for headers] [Connected to cloud.r-project.org (108.139.15.91)] [Connecting to r2u.stat.\r                                                                                                    \rHit:3 http://archive.ubuntu.com/ubuntu jammy-updates InRelease\n",
            "\r0% [Waiting for headers] [Waiting for headers] [Connecting to r2u.stat.illinois.edu (192.17.190.167)\r                                                                                                    \rHit:4 https://cloud.r-project.org/bin/linux/ubuntu jammy-cran40/ InRelease\n",
            "\r0% [Waiting for headers] [Connected to r2u.stat.illinois.edu (192.17.190.167)] [Waiting for headers]\r                                                                                                    \rHit:5 http://archive.ubuntu.com/ubuntu jammy-backports InRelease\n",
            "Hit:6 https://developer.download.nvidia.com/compute/cuda/repos/ubuntu2204/x86_64  InRelease\n",
            "Ign:7 https://r2u.stat.illinois.edu/ubuntu jammy InRelease\n",
            "Hit:8 https://r2u.stat.illinois.edu/ubuntu jammy Release\n",
            "Hit:9 https://ppa.launchpadcontent.net/deadsnakes/ppa/ubuntu jammy InRelease\n",
            "Hit:10 https://ppa.launchpadcontent.net/graphics-drivers/ppa/ubuntu jammy InRelease\n",
            "Hit:11 https://ppa.launchpadcontent.net/ubuntugis/ppa/ubuntu jammy InRelease\n",
            "Reading package lists... Done\n",
            "W: Skipping acquire of configured file 'main/source/Sources' as repository 'https://r2u.stat.illinois.edu/ubuntu jammy InRelease' does not seem to provide it (sources.list entry misspelt?)\n",
            "Reading package lists... Done\n",
            "Building dependency tree... Done\n",
            "Reading state information... Done\n",
            "tesseract-ocr is already the newest version (4.1.1-2.1build1).\n",
            "0 upgraded, 0 newly installed, 0 to remove and 54 not upgraded.\n",
            "Reading package lists... Done\n",
            "Building dependency tree... Done\n",
            "Reading state information... Done\n",
            "libtesseract-dev is already the newest version (4.1.1-2.1build1).\n",
            "0 upgraded, 0 newly installed, 0 to remove and 54 not upgraded.\n",
            "Extracted Text:\n",
            "Je commence 4 travailler'a:9h. Je: travaille’ jusqu’a\n",
            "midi. A midi; j’achéte un Sandwich.'Jé mange dans le:\n",
            "jardin: Je marche.-Je regarde les vitrines. Je téléphone\n",
            "4 Jean-Paul, ‘Je‘recommence le, travail a2 heures. ‘Je\n",
            "termine a 6 heures.;:Je passe la soirée. avec: Sophie.\n",
            "Nous écoutons des'disques et nous dansons::\n",
            "\f\n",
            "\n",
            "Detected Language: French\n"
          ]
        }
      ],
      "source": [
        "import cv2\n",
        "import pytesseract\n",
        "from langdetect import detect\n",
        "from langdetect.lang_detect_exception import LangDetectException\n",
        "import os\n",
        "\n",
        "# Install Tesseract and download necessary language data (for Colab)\n",
        "!apt-get update\n",
        "!apt-get install -y tesseract-ocr\n",
        "!apt-get install -y libtesseract-dev\n",
        "\n",
        "# Set the Tesseract path for Colab or system (adjust if running locally)\n",
        "TESSERACT_PATH = r\"/usr/bin/tesseract\"\n",
        "pytesseract.pytesseract.tesseract_cmd = TESSERACT_PATH\n",
        "\n",
        "# Map of language codes to their full names\n",
        "LANGUAGE_MAP = {\n",
        "    'en': 'English',\n",
        "    'fr': 'French',\n",
        "    'es': 'Spanish',\n",
        "    'de': 'German',\n",
        "    'it': 'Italian',\n",
        "    'zh-cn': 'Chinese (Simplified)',\n",
        "    'zh-tw': 'Chinese (Traditional)',\n",
        "    'ja': 'Japanese',\n",
        "    'ko': 'Korean',\n",
        "    'ar': 'Arabic',\n",
        "    'ru': 'Russian',\n",
        "    'pt': 'Portuguese',\n",
        "    'hi': 'Hindi',\n",
        "    'bn': 'Bengali',\n",
        "    'ur': 'Urdu',\n",
        "    'pa': 'Punjabi',\n",
        "    'vi': 'Vietnamese',\n",
        "    'th': 'Thai',\n",
        "    # Add more language codes and names as needed\n",
        "}\n",
        "\n",
        "def preprocess_image(image_path):\n",
        "    # Read the image\n",
        "    img = cv2.imread(image_path)\n",
        "\n",
        "    # Resize the image to improve OCR accuracy\n",
        "    img = cv2.resize(img, None, fx=2, fy=2, interpolation=cv2.INTER_CUBIC)\n",
        "\n",
        "    # Convert to grayscale\n",
        "    gray = cv2.cvtColor(img, cv2.COLOR_BGR2GRAY)\n",
        "\n",
        "    # Apply GaussianBlur to reduce noise\n",
        "    gray = cv2.GaussianBlur(gray, (5, 5), 0)\n",
        "\n",
        "    # Apply adaptive thresholding for better results with uneven lighting\n",
        "    gray = cv2.adaptiveThreshold(\n",
        "        gray, 255, cv2.ADAPTIVE_THRESH_GAUSSIAN_C, cv2.THRESH_BINARY, 31, 2\n",
        "    )\n",
        "\n",
        "    return gray\n",
        "\n",
        "def extract_text(preprocessed_image):\n",
        "    try:\n",
        "        # Specify a custom config to optimize OCR\n",
        "        custom_config = r'--oem 3 --psm 6'\n",
        "        text = pytesseract.image_to_string(preprocessed_image, config=custom_config)\n",
        "        return text\n",
        "    except pytesseract.TesseractNotFoundError:\n",
        "        print(f\"Error: Tesseract is not found. Please check the TESSERACT_PATH variable.\")\n",
        "        return None\n",
        "    except Exception as e:\n",
        "        print(f\"An error occurred during text extraction: {str(e)}\")\n",
        "        return None\n",
        "\n",
        "def detect_language(text):\n",
        "    try:\n",
        "        # Detect the language of the text\n",
        "        lang_code = detect(text)\n",
        "        # Get the full language name from the map, or default to the code if not found\n",
        "        language_name = LANGUAGE_MAP.get(lang_code, lang_code)\n",
        "        return language_name\n",
        "    except LangDetectException:\n",
        "        return \"Unable to detect language\"\n",
        "\n",
        "def main():\n",
        "    IMAGE_PATH = \"french.jpeg\"  # Replace with the actual path to your image file\n",
        "\n",
        "    # Check if the image file exists\n",
        "    if not os.path.isfile(IMAGE_PATH):\n",
        "        print(f\"Error: The file {IMAGE_PATH} does not exist.\")\n",
        "        return\n",
        "\n",
        "    # Preprocess the image\n",
        "    preprocessed_image = preprocess_image(IMAGE_PATH)\n",
        "\n",
        "    # Extract text from the image\n",
        "    extracted_text = extract_text(preprocessed_image)\n",
        "\n",
        "    if extracted_text is None:\n",
        "        return\n",
        "\n",
        "    if not extracted_text.strip():\n",
        "        print(\"No text was extracted from the image.\")\n",
        "        return\n",
        "\n",
        "    # Detect the language of the extracted text\n",
        "    detected_language = detect_language(extracted_text)\n",
        "\n",
        "    print(f\"Extracted Text:\\n{extracted_text}\\n\")\n",
        "    print(f\"Detected Language: {detected_language}\")\n",
        "\n",
        "if __name__ == \"__main__\":\n",
        "    main()\n"
      ]
    }
  ]
}