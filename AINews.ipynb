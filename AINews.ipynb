{
  "cells": [
    {
      "cell_type": "markdown",
      "metadata": {
        "id": "view-in-github",
        "colab_type": "text"
      },
      "source": [
        "<a href=\"https://colab.research.google.com/github/Pallavi023/EDA/blob/main/AINews.ipynb\" target=\"_parent\"><img src=\"https://colab.research.google.com/assets/colab-badge.svg\" alt=\"Open In Colab\"/></a>"
      ]
    },
    {
      "cell_type": "code",
      "execution_count": null,
      "metadata": {
        "colab": {
          "background_save": true,
          "base_uri": "https://localhost:8080/"
        },
        "id": "UFcuHsDHK_Nr",
        "outputId": "560609b0-b499-480b-e628-f3ecf1d29fe6"
      },
      "outputs": [
        {
          "name": "stdout",
          "output_type": "stream",
          "text": [
            "Requirement already satisfied: pandas in /usr/local/lib/python3.10/dist-packages (2.0.3)\n",
            "Requirement already satisfied: nltk in /usr/local/lib/python3.10/dist-packages (3.8.1)\n",
            "Collecting sklearn\n",
            "  Using cached sklearn-0.0.post12.tar.gz (2.6 kB)\n",
            "  \u001b[1;31merror\u001b[0m: \u001b[1msubprocess-exited-with-error\u001b[0m\n",
            "  \n",
            "  \u001b[31m×\u001b[0m \u001b[32mpython setup.py egg_info\u001b[0m did not run successfully.\n",
            "  \u001b[31m│\u001b[0m exit code: \u001b[1;36m1\u001b[0m\n",
            "  \u001b[31m╰─>\u001b[0m See above for output.\n",
            "  \n",
            "  \u001b[1;35mnote\u001b[0m: This error originates from a subprocess, and is likely not a problem with pip.\n",
            "  Preparing metadata (setup.py) ... \u001b[?25l\u001b[?25herror\n",
            "\u001b[1;31merror\u001b[0m: \u001b[1mmetadata-generation-failed\u001b[0m\n",
            "\n",
            "\u001b[31m×\u001b[0m Encountered error while generating package metadata.\n",
            "\u001b[31m╰─>\u001b[0m See above for output.\n",
            "\n",
            "\u001b[1;35mnote\u001b[0m: This is an issue with the package mentioned above, not pip.\n",
            "\u001b[1;36mhint\u001b[0m: See above for details.\n"
          ]
        }
      ],
      "source": [
        "!pip install pandas nltk sklearn"
      ]
    },
    {
      "cell_type": "code",
      "execution_count": null,
      "metadata": {
        "id": "9MCIPAXvLfpb"
      },
      "outputs": [],
      "source": [
        "import pandas as pd\n",
        "import nltk\n",
        "from nltk.corpus import stopwords\n",
        "from nltk.tokenize import word_tokenize\n",
        "from nltk.sentiment.vader import SentimentIntensityAnalyzer\n",
        "from sklearn.feature_extraction.text import CountVectorizer\n",
        "import re"
      ]
    },
    {
      "cell_type": "code",
      "execution_count": null,
      "metadata": {
        "colab": {
          "base_uri": "https://localhost:8080/"
        },
        "id": "Ag-9wFQfLuCF",
        "outputId": "726a8e43-5cb7-426e-cf7e-1d170a0d514a"
      },
      "outputs": [
        {
          "name": "stderr",
          "output_type": "stream",
          "text": [
            "[nltk_data] Downloading package vader_lexicon to /root/nltk_data...\n",
            "[nltk_data]   Package vader_lexicon is already up-to-date!\n",
            "[nltk_data] Downloading package stopwords to /root/nltk_data...\n",
            "[nltk_data]   Package stopwords is already up-to-date!\n",
            "[nltk_data] Downloading package punkt to /root/nltk_data...\n",
            "[nltk_data]   Package punkt is already up-to-date!\n"
          ]
        },
        {
          "data": {
            "text/plain": [
              "True"
            ]
          },
          "execution_count": 24,
          "metadata": {},
          "output_type": "execute_result"
        }
      ],
      "source": [
        "nltk.download('vader_lexicon')\n",
        "nltk.download('stopwords')\n",
        "nltk.download('punkt')"
      ]
    },
    {
      "cell_type": "code",
      "execution_count": null,
      "metadata": {
        "id": "eskRqIG-L0HV"
      },
      "outputs": [],
      "source": [
        "df = pd.read_excel('Assignment AI new.xlsx')"
      ]
    },
    {
      "cell_type": "code",
      "execution_count": null,
      "metadata": {
        "colab": {
          "base_uri": "https://localhost:8080/",
          "height": 206
        },
        "id": "fF4jrxkgL8wc",
        "outputId": "accf2684-1185-4ca1-8206-12c0cd570860"
      },
      "outputs": [
        {
          "data": {
            "application/vnd.google.colaboratory.intrinsic+json": {
              "summary": "{\n  \"name\": \"df\",\n  \"rows\": 25,\n  \"fields\": [\n    {\n      \"column\": \"Article\",\n      \"properties\": {\n        \"dtype\": \"string\",\n        \"num_unique_values\": 25,\n        \"samples\": [\n          \"BRUKINSA is the first and only BTK inhibitor approved for follicular lymphoma in the European Union\\n\\nApproval was based on results from the ROSEWOOD trial in which BRUKINSA plus the anti-CD20 monoclonal antibody obinutuzumab achieved higher overall response rate compared to obinutuzumab alone\\n\\nBeiGene, Ltd. BGNE HKEX: 06160, SSE: 688235))), a global biotechnology company, today announced that the European Commission (EC) has granted marketing authorization for BRUKINSA\\u00ae (zanubrutinib) in combination with obinutuzumab for the treatment of adult patients with relapsed or refractory (R/R) follicular lymphoma (FL) who have received at least two prior lines of systemic therapy. This marks the fourth indication in the European Union (EU) for BRUKINSA, which is now approved to treat more patient populations in the EU than any other Bruton's tyrosine kinase (BTK) inhibitor.\\n\\n\\\"With this approval, we are excited to announce that BRUKINSA will become available as a treatment option for patients with follicular lymphoma in the European Union. BRUKINSA is now the first BTK inhibitor approved in this indication and has the broadest label of any medicine in its class globally,\\\" said Mehrdad Mobasher, M.D., M.P.H., Chief Medical Officer, Hematology at BeiGene. \\\"This milestone marks a significant advancement in our efforts to combat the disease by providing a new and effective treatment option to patients who have either failed to respond to initial therapies or have experienced a relapse.\\\"\\n\\nThe EC approval is based on positive results from ROSEWOOD (NCT03332017), a global, randomized, open-label Phase 2 study of BRUKINSA plus obinutuzumab compared with obinutuzumab alone in 217 patients with R/R FL who received at least two prior lines of systemic therapy. In the study, the overall response rate was 69.0% in the BRUKINSA plus obinutuzumab arm versus 45.8% in the obinutuzumab arm (P = 0.0012), with a median follow-up of approximately 20 months. Responses were durable with 18-month landmark duration of response (DOR) of 69.3% in the BRUKINSA combination arm.\\n\\nAdditionally, the median progression-free survival (PFS) for patients treated with BRUKINSA plus obinutuzumab was 28.0 months, compared to 10.4 months for patients treated with only obinutuzumab (HR: 0.50 [95% CI: 0.33, 0.75]; P = 0.0007).\\n\\nBRUKINSA plus obinutuzumab was generally well-tolerated, with safety results consistent with previous studies of both medicines.\\n\\n\\\"People living with follicular lymphoma often experience relapse and have poor responses to subsequent lines of therapy, making it imperative to improve outcomes,\\\" said Pier Luigi Zinzani, M.D., Ph.D., Full Professor of Haematology at the Institute of Haematology \\\"Ser\\u00e0gnoli,\\\" University of Bologna, Italy. \\\"The results from the ROSEWOOD trial demonstrated a significant clinical benefit of BRUKINSA plus obinutuzumab for patients with relapsed or refractory follicular lymphoma. BRUKINSA is a chemotherapy-free, oral treatment option that can be a practice-changing option for eligible patients with relapsed or refractory follicular lymphoma.\\\"\\n\\nIn addition to R/R FL, BRUKINSA is approved in the EU as monotherapy for the treatment of adult patients with chronic lymphocytic leukemia, for adult patients with marginal zone lymphoma who have received at least one prior anti-CD20-based therapy, and for adult patients with Waldenstr\\u00f6m's macroglobulinemia who have received at least one prior therapy, or in first-line treatment for patients unsuitable for chemo-immunotherapy.\\n\\nGerwin Winter, Senior Vice President, Head of Europe at BeiGene noted, \\\"We have made great progress in making BRUKINSA available to eligible patients with hematological malignancies globally, and this approval is a testament to our continued commitment to bring this much needed treatment option to patients in Europe and around the world. We hope that this approval will have a positive impact on the lives of many people living with follicular lymphoma in the European Union and their families.\\\"\\n\\nBeiGene currently has submissions for BRUKINSA in R/R FL under review by regulatory authorities including in the United States (U.S.) and China. Additionally, BeiGene's submission for BRUKINSA in R/R FL is under review by regulatory authorities in Canada, Switzerland, and the United Kingdom as part of the Access Consortium New Active Substance Work-sharing Initiative (NASWSI).\\n\\nBRUKINSA is approved in more than 65 markets, including the U.S., China, EU, Great Britain, Canada, Australia, South Korea, and Switzerland in selected indications and under development for additional indications globally. Product information may differ from country to country. Prescribers should consult the product information approved in their respective countries. The global BRUKINSA development program includes more than 5,000 subjects enrolled to date in 29 countries and regions.\\n\\nThe Summary of Product Characteristics for BRUKINSA can be found here: https://www.ema.europa.eu/en/documents/product-information/brukinsa-epar-product-information_en.pdf\\n\\nFL is the second most common type of non-Hodgkin lymphoma (NHL), accounting for 22 percent of all NHL cases.i Across Europe, over 122,000 people each year are diagnosed with NHL.ii FL is a slow-growing cancer but can become more aggressive over time. While FL remains incurable, people with the condition can live a long time. The five-year survival rate is about 90 percent, and approximately half of people diagnosed with FL can live with the disease for nearly 20 years.iii,iv\\n\\nBRUKINSA is a small molecule inhibitor of Bruton's tyrosine kinase (BTK) discovered by BeiGene scientists that is currently being evaluated globally in a broad clinical program as a monotherapy and in combination with other therapies to treat various B-cell malignancies. Because new BTK is continuously synthesized, BRUKINSA was specifically designed to deliver complete and sustained inhibition of the BTK protein by optimizing bioavailability, half-life, and selectivity. With differentiated pharmacokinetics compared to other approved BTK inhibitors, BRUKINSA has been demonstrated to inhibit the proliferation of malignant B cells within a number of disease relevant tissues.\\n\\nBeiGene is a global biotechnology company that is discovering and developing innovative oncology treatments that are more affordable and accessible to cancer patients worldwide. With a broad portfolio, we are expediting development of our diverse pipeline of novel therapeutics through our internal capabilities and collaborations. We are committed to radically improving access to medicines for far more patients who need them. Our growing global team of more than 10,000 colleagues spans five continents, with administrative offices in Basel, Beijing, and Cambridge, U.S. To learn more about BeiGene, please visit www.beigene.com and follow us on LinkedIn and X (formerly known as Twitter).\\n\\nThis press release contains forward-looking statements within the meaning of the Private Securities Litigation Reform Act of 1995 and other federal securities laws, including statements regarding BeiGene's ability to provide effective treatment options to patients with FL; whether BRUKINSA is a practice-changing option for eligible patients; the effect, if any, that the EC approval of BRUKINSA for R/R FL will have on people living with R/R FL and their families; BeiGene's advancement, anticipated clinical development, regulatory submissions and commercialization of zanubrutinib, particularly as a treatment for R/R FL; and BeiGene's plans, commitments, aspirations, and goals under the heading \\\"About BeiGene.\\\" Actual results may differ materially from those indicated in the forward-looking statements as a result of various important factors, including BeiGene's ability to demonstrate the efficacy and safety of its drug candidates; the clinical results for its drug candidates, which may not support further development or marketing approval; actions of regulatory agencies, which may affect the initiation, timing and progress of clinical trials and marketing approval; BeiGene's ability to achieve commercial success for its marketed medicines and drug candidates, if approved; BeiGene's ability to obtain and maintain protection of intellectual property for its medicines and technology; BeiGene's reliance on third parties to conduct drug development, manufacturing, commercialization, and other services; BeiGene's limited experience in obtaining regulatory approvals and commercializing pharmaceutical products and its ability to obtain additional funding for operations and to complete the development of its drug candidates and achieve and maintain profitability; and those risks more fully discussed in the section entitled \\\"Risk Factors\\\" in BeiGene's most recent quarterly report on Form 10-Q, as well as discussions of potential risks, uncertainties, and other important factors in BeiGene's subsequent filings with the U.S. Securities and Exchange Commission. All information in this press release is as of the date of this press release, and BeiGene undertakes no duty to update such information unless required by law.\",\n          \"Whether you dip it, drizzle it, or put it on chicken nuggets or french fries, McDonald\\u2019s sauce assortment is expanding this fall.\\n\\nThe fast food chain announced Tuesday that it's adding two new limited-edition sauces to its U.S. menu in two weeks.\\n\\nThe new sauces \\u2014 McDonald\\u2019s Sweet & Spicy Jam and McDonald\\u2019s MamboSauce \\u2014 will hit the menu on Oct. 9, according to a news release from the company.\\n\\nAre whoppers really too small?Burger King must face whopper of a lawsuit alleging burgers are too small, says judge\\n\\nWhat are McDonald's two new sauces?\\n\\nHere's more about the new limited-edition duo:\\n\\u2022 Sweet & Spicy Jam: The chain describes it as a breakfast-inspired \\\"jammy red pepper dipping sauce with a tongue-numbing Szechuan peppercorn kick.\\\" It also includes apple cider vinegar and cayenne pepper.\\n\\u2022 MamboSauce: This one is described by McD's as \\\"a tomato-based, sweet, spicy and vinegary sauce, inspired by an Washington, D.C. area sauce staple.\\\"\\n\\nThe company came up with the new sauces by exploring \\\"the incredible tastes and flavors found in communities across the country,\\\" Tariq Hassan, chief marking and customer experience officer at the chain, said in a news release.\\n\\nThe sauces \\\"live at the intersection of flavor and culture-pulling from decades of rich food history and tradition in local restaurants and home kitchens, and bringing the delicious spice, sweetness and kick of heat we know today\\u2019s customers are craving,\\\" Hassan said.\\n\\nMcD's said it's teaming up with six foodie content creators to review the sauces so they can share pairing suggestion ideas with customers on their respective TikTok channels.\\n\\nThe creators are: @Mr.Eats305, @sharidyonne, @santanakeish, @misslegarda, @natelovlogs and @blackgirlsexploredc.\\n\\n\\\"We\\u2019re passing the mic to some of our biggest sauce fans \\u2014 food content creators \\u2014 to get their authentic reactions from the very first, drizzle, dip and bite,\\\" Hassan said.\\n\\nThe creators are: @Mr.Eats305, @sharidyonne, @santanakeish, @misslegarda, @natelovlogs, and @blackgirlsexploredc.\\n\\nNatalie Neysa Alund is a senior correspondent for USA TODAY. Reach her at nalund@usatoday.com and follow her on X, the platform formerly known as Twitter @nataliealund.\",\n          \"Retailers, the makers of foods marketed for weight loss, and other types of companies could see knock-on effects from the rise of diabetes and weight loss drugs like Ozempic.\\n\\nAs they do every summer, publicly traded companies posted their second-quarter results while Americans were baring their bodies on the beach. But this year, the timing was apt. On several earnings calls in August, chief executives reassured investors that the Ozempic revolution had not left them in the dust, and that they could somehow share in the blazing success of new diabetes and weight loss drugs. \\u201cIt puts us in a good position to be a solution for those who are on the drugs,\\u201d said Dan R. Chard, the chief executive of Medifast, which makes diet products like shakes and protein bars, adding: \\u201cThey\\u2019re looking for guidance.\\u201d He told analysts this even while explaining that new-generation drugs had helped pummel earnings, down 34.7 percent year on year. \\u201cWe will continue to study this,\\u201d Michael Johnson, the chief executive of the nutritional supplement maker Herbalife, told investors. \\u201cAnd when we see an opportunity to capitalize on it, we will.\\u201d In theory, that opportunity \\u2014 both for making profits and for losing fortunes \\u2014 could be vast not only for the companies behind these drugs but also for some in completely different industries.\\n\\nKnown as GLP-1 drugs, the medications are already driving big profits. Novo Nordisk makes both Ozempic, which has been approved only for Type 2 diabetes, and its close relative Wegovy, which has been approved for weight loss. They mimic a glucagon-like peptide that regulates appetite in the brain, leaving people feeling sated for hours. Together, they helped send Novo\\u2019s earnings rocketing up 32 percent in the first half of this year, and Novo\\u2019s market value is now larger than the entire Danish economy. Eli Lilly\\u2019s sales surged 28 percent in the second quarter, thanks to another diabetes drug, Mounjaro, which the Food and Drug Administration may approve for weight loss this year. And the full potential isn\\u2019t even clear yet. The market for weight loss drugs is huge: There are roughly 750 million obese people worldwide, including about 42 percent of adults in the United States, where obesity-related illnesses incur billions of dollars in health care costs each year. But Novo says GLP-1 drugs could eventually have other uses, like helping prevent cardiovascular disease among obese adults. There are signs they could treat addiction and even Alzheimer\\u2019s, too. \\u201cThe market potential is very, very significant,\\u201d Novo\\u2019s chief financial officer, Karsten Knudsen, told me when I visited the company in June. \\u201cWe\\u2019re operating in kind of unusual territory.\\u201d\\n\\nThe ripple effects are widening. Retailers like Walmart, Kroger and Rite Aid say GLP-1 prescriptions are bringing more people into stores, where they make other purchases. Walmart\\u2019s chief executive, Doug McMillon, told analysts in August that its executives \\u201cexpect consumables, and health and wellness, primarily due to the popularity of some GLP-1 drugs, to grow as a percent of total.\\u201d Medtronic\\u2019s chief executive, Geoff Martha, said the company had seen a \\u201cmodest\\u201d dip in bariatric surgery, presumably as people opted for weight loss drugs instead. And some analysts believe the drugs could disrupt the American diet. \\u201cIf you\\u2019re eating fast food every day, you\\u2019ll probably continue to eat fast food every day,\\u201d James van Geelen of Citrinas Capital Management said on Bloomberg\\u2019s \\u201cOdd Lots\\u201d podcast. \\u201cYou will just eat a lot less of it.\\u201d Still, there is room for other approaches to fighting obesity. \\u201cThese drugs are game changers, but with an asterisk,\\u201d said David Ludwig, an obesity specialist and pediatrics professor at Harvard Medical School. (The drugs come with a long list of side effects.) \\u201cEven if you can reduce weight across the population with drugs, it\\u2019s not going to eliminate the risks of a poor diet.\\u201d Flush with cash, Novo agrees. \\u201cWe need to be looking at what\\u2019s the next thing,\\u201d its executive vice president for commercial strategy Camilla Sylvest, told me. In June, the company launched an obesity prevention unit near Copenhagen, to research how to stop the disease before people need to take drugs to lose weight. \\u2014 Vivienne Walt\\n\\nThe U.S. labor market begins to look like its old self. Employers added 187,000 jobs in August, the Labor Department reported Friday, and unemployment rose to 3.8 percent as the economy continued to lose momentum built up after pandemic lockdowns. Commerce Secretary Gina Raimondo visits China. She had the tricky task of promoting trade between the two superpowers while holding firm on technology export limits imposed in the name of American national security. The two countries agreed to create new dialogues, including a working group for commercial issues. The White House names the first drugs set for Medicare price negotiations. The long-awaited list of 10 medicines will be subject to a landmark new program meant to reduce costs for Medicare. Drugmakers have pushed back against the plan, including in court, and Republicans have criticized the initiative as government overreach. UBS reports a $29 billion quarterly profit, with an asterisk. The huge gain \\u2014 the biggest in banking history \\u2014 stems from the bank\\u2019s acquisition of its rival Credit Suisse this spring for about $3.2 billion, a steep discount that is skewing UBS\\u2019s results. But it belies the challenges that UBS faces as it moves to complete the largest takeover of a bank since the 2008 financial crisis. When Emily Weiss stepped down last year as the chief executive of Glossier, the skin care and beauty brand she founded in 2014, some called it the end of the \\u201cgirlboss.\\u201d That archetype \\u2014 of media-savvy female founders with venture-darling, millennial-focused start-ups \\u2014 had been propelled by \\u201c#Girlboss,\\u201d the Nasty Girl founder Sophia Amoruso\\u2019s 2014 memoir.\\n\\nGlossier, with its direct-to-consumer model and voice-y website, changed the way women buy makeup, eventually passing a $1 billion valuation. But the brand stumbled as it struggled to move into brick-and-mortar retail; faced criticism from retail employees who alleged a toxic, racist working environment; and shelved projects like a makeup line that departed from its dewy, barely-there look. DealBook spoke to Marisa Meltzer, author of the upcoming book \\u201cGlossy: Ambition, Beauty, and the Inside Story of Emily Weiss\\u2019s Glossier,\\u201d about what lessons we might glean from Weiss and the #Girlboss movement. This interview has been edited and condensed for clarity. Can you contextualize the #Girlboss movement? It was pretty offensive and diminutive. No one except for Sophia was calling themselves out as a girlboss. But it was also something that benefited them because it attracted interest. It was a way for them to get press about their businesses that wasn\\u2019t the typical things that female founders and C.E.O.s sometimes had to do, like a fashion spread.\\n\\nThere was a big debate at the time over whether the press would have covered the scandals at companies like Outdoor Voices, Man Repeller and Glossier differently if they had men at the helm. What do you think? I think there was a bit of a thirst for blood. These women had been propped up in a way that was kind of annoying \\u2014 I\\u2019m sure it was annoying to them, too. Some of those companies had real problems, like being sued over firing pregnant employees. And other companies had, like Glossier, an accusation of having a workplace, largely for their retail employees, that wasn\\u2019t ideal. That\\u2019s different than criminal behavior. The reality is these companies weren\\u2019t the same. The women at their helms were not all the same. And they weren\\u2019t making the same mistakes. And they also didn\\u2019t have the same level of success. What happens to Glossier now? Glossier seems to have taken the time since Emily stepped down to re-evaluate. They decided to really belatedly go into retail. They launched in Sephora last February. The larger task that they\\u2019re trying to do is make the company in better shape for an exit.\"\n        ],\n        \"semantic_type\": \"\",\n        \"description\": \"\"\n      }\n    }\n  ]\n}",
              "type": "dataframe",
              "variable_name": "df"
            },
            "text/html": [
              "\n",
              "  <div id=\"df-a0d5ffe2-d37f-481d-8ebb-d556ed9da191\" class=\"colab-df-container\">\n",
              "    <div>\n",
              "<style scoped>\n",
              "    .dataframe tbody tr th:only-of-type {\n",
              "        vertical-align: middle;\n",
              "    }\n",
              "\n",
              "    .dataframe tbody tr th {\n",
              "        vertical-align: top;\n",
              "    }\n",
              "\n",
              "    .dataframe thead th {\n",
              "        text-align: right;\n",
              "    }\n",
              "</style>\n",
              "<table border=\"1\" class=\"dataframe\">\n",
              "  <thead>\n",
              "    <tr style=\"text-align: right;\">\n",
              "      <th></th>\n",
              "      <th>Article</th>\n",
              "    </tr>\n",
              "  </thead>\n",
              "  <tbody>\n",
              "    <tr>\n",
              "      <th>0</th>\n",
              "      <td>Retailers, the makers of foods marketed for we...</td>\n",
              "    </tr>\n",
              "    <tr>\n",
              "      <th>1</th>\n",
              "      <td>Move over, Ozempic — there’s a new drug in tow...</td>\n",
              "    </tr>\n",
              "    <tr>\n",
              "      <th>2</th>\n",
              "      <td>Sept 14 (Reuters) - Bristol Myers Squibb (BMY....</td>\n",
              "    </tr>\n",
              "    <tr>\n",
              "      <th>3</th>\n",
              "      <td>Austin Wolcott was 18 years old and pretty sur...</td>\n",
              "    </tr>\n",
              "    <tr>\n",
              "      <th>4</th>\n",
              "      <td>Cancer, often referred to as the “emperor of a...</td>\n",
              "    </tr>\n",
              "  </tbody>\n",
              "</table>\n",
              "</div>\n",
              "    <div class=\"colab-df-buttons\">\n",
              "\n",
              "  <div class=\"colab-df-container\">\n",
              "    <button class=\"colab-df-convert\" onclick=\"convertToInteractive('df-a0d5ffe2-d37f-481d-8ebb-d556ed9da191')\"\n",
              "            title=\"Convert this dataframe to an interactive table.\"\n",
              "            style=\"display:none;\">\n",
              "\n",
              "  <svg xmlns=\"http://www.w3.org/2000/svg\" height=\"24px\" viewBox=\"0 -960 960 960\">\n",
              "    <path d=\"M120-120v-720h720v720H120Zm60-500h600v-160H180v160Zm220 220h160v-160H400v160Zm0 220h160v-160H400v160ZM180-400h160v-160H180v160Zm440 0h160v-160H620v160ZM180-180h160v-160H180v160Zm440 0h160v-160H620v160Z\"/>\n",
              "  </svg>\n",
              "    </button>\n",
              "\n",
              "  <style>\n",
              "    .colab-df-container {\n",
              "      display:flex;\n",
              "      gap: 12px;\n",
              "    }\n",
              "\n",
              "    .colab-df-convert {\n",
              "      background-color: #E8F0FE;\n",
              "      border: none;\n",
              "      border-radius: 50%;\n",
              "      cursor: pointer;\n",
              "      display: none;\n",
              "      fill: #1967D2;\n",
              "      height: 32px;\n",
              "      padding: 0 0 0 0;\n",
              "      width: 32px;\n",
              "    }\n",
              "\n",
              "    .colab-df-convert:hover {\n",
              "      background-color: #E2EBFA;\n",
              "      box-shadow: 0px 1px 2px rgba(60, 64, 67, 0.3), 0px 1px 3px 1px rgba(60, 64, 67, 0.15);\n",
              "      fill: #174EA6;\n",
              "    }\n",
              "\n",
              "    .colab-df-buttons div {\n",
              "      margin-bottom: 4px;\n",
              "    }\n",
              "\n",
              "    [theme=dark] .colab-df-convert {\n",
              "      background-color: #3B4455;\n",
              "      fill: #D2E3FC;\n",
              "    }\n",
              "\n",
              "    [theme=dark] .colab-df-convert:hover {\n",
              "      background-color: #434B5C;\n",
              "      box-shadow: 0px 1px 3px 1px rgba(0, 0, 0, 0.15);\n",
              "      filter: drop-shadow(0px 1px 2px rgba(0, 0, 0, 0.3));\n",
              "      fill: #FFFFFF;\n",
              "    }\n",
              "  </style>\n",
              "\n",
              "    <script>\n",
              "      const buttonEl =\n",
              "        document.querySelector('#df-a0d5ffe2-d37f-481d-8ebb-d556ed9da191 button.colab-df-convert');\n",
              "      buttonEl.style.display =\n",
              "        google.colab.kernel.accessAllowed ? 'block' : 'none';\n",
              "\n",
              "      async function convertToInteractive(key) {\n",
              "        const element = document.querySelector('#df-a0d5ffe2-d37f-481d-8ebb-d556ed9da191');\n",
              "        const dataTable =\n",
              "          await google.colab.kernel.invokeFunction('convertToInteractive',\n",
              "                                                    [key], {});\n",
              "        if (!dataTable) return;\n",
              "\n",
              "        const docLinkHtml = 'Like what you see? Visit the ' +\n",
              "          '<a target=\"_blank\" href=https://colab.research.google.com/notebooks/data_table.ipynb>data table notebook</a>'\n",
              "          + ' to learn more about interactive tables.';\n",
              "        element.innerHTML = '';\n",
              "        dataTable['output_type'] = 'display_data';\n",
              "        await google.colab.output.renderOutput(dataTable, element);\n",
              "        const docLink = document.createElement('div');\n",
              "        docLink.innerHTML = docLinkHtml;\n",
              "        element.appendChild(docLink);\n",
              "      }\n",
              "    </script>\n",
              "  </div>\n",
              "\n",
              "\n",
              "<div id=\"df-52ef8738-f9f1-4d21-84e8-1a3c54a6c12f\">\n",
              "  <button class=\"colab-df-quickchart\" onclick=\"quickchart('df-52ef8738-f9f1-4d21-84e8-1a3c54a6c12f')\"\n",
              "            title=\"Suggest charts\"\n",
              "            style=\"display:none;\">\n",
              "\n",
              "<svg xmlns=\"http://www.w3.org/2000/svg\" height=\"24px\"viewBox=\"0 0 24 24\"\n",
              "     width=\"24px\">\n",
              "    <g>\n",
              "        <path d=\"M19 3H5c-1.1 0-2 .9-2 2v14c0 1.1.9 2 2 2h14c1.1 0 2-.9 2-2V5c0-1.1-.9-2-2-2zM9 17H7v-7h2v7zm4 0h-2V7h2v10zm4 0h-2v-4h2v4z\"/>\n",
              "    </g>\n",
              "</svg>\n",
              "  </button>\n",
              "\n",
              "<style>\n",
              "  .colab-df-quickchart {\n",
              "      --bg-color: #E8F0FE;\n",
              "      --fill-color: #1967D2;\n",
              "      --hover-bg-color: #E2EBFA;\n",
              "      --hover-fill-color: #174EA6;\n",
              "      --disabled-fill-color: #AAA;\n",
              "      --disabled-bg-color: #DDD;\n",
              "  }\n",
              "\n",
              "  [theme=dark] .colab-df-quickchart {\n",
              "      --bg-color: #3B4455;\n",
              "      --fill-color: #D2E3FC;\n",
              "      --hover-bg-color: #434B5C;\n",
              "      --hover-fill-color: #FFFFFF;\n",
              "      --disabled-bg-color: #3B4455;\n",
              "      --disabled-fill-color: #666;\n",
              "  }\n",
              "\n",
              "  .colab-df-quickchart {\n",
              "    background-color: var(--bg-color);\n",
              "    border: none;\n",
              "    border-radius: 50%;\n",
              "    cursor: pointer;\n",
              "    display: none;\n",
              "    fill: var(--fill-color);\n",
              "    height: 32px;\n",
              "    padding: 0;\n",
              "    width: 32px;\n",
              "  }\n",
              "\n",
              "  .colab-df-quickchart:hover {\n",
              "    background-color: var(--hover-bg-color);\n",
              "    box-shadow: 0 1px 2px rgba(60, 64, 67, 0.3), 0 1px 3px 1px rgba(60, 64, 67, 0.15);\n",
              "    fill: var(--button-hover-fill-color);\n",
              "  }\n",
              "\n",
              "  .colab-df-quickchart-complete:disabled,\n",
              "  .colab-df-quickchart-complete:disabled:hover {\n",
              "    background-color: var(--disabled-bg-color);\n",
              "    fill: var(--disabled-fill-color);\n",
              "    box-shadow: none;\n",
              "  }\n",
              "\n",
              "  .colab-df-spinner {\n",
              "    border: 2px solid var(--fill-color);\n",
              "    border-color: transparent;\n",
              "    border-bottom-color: var(--fill-color);\n",
              "    animation:\n",
              "      spin 1s steps(1) infinite;\n",
              "  }\n",
              "\n",
              "  @keyframes spin {\n",
              "    0% {\n",
              "      border-color: transparent;\n",
              "      border-bottom-color: var(--fill-color);\n",
              "      border-left-color: var(--fill-color);\n",
              "    }\n",
              "    20% {\n",
              "      border-color: transparent;\n",
              "      border-left-color: var(--fill-color);\n",
              "      border-top-color: var(--fill-color);\n",
              "    }\n",
              "    30% {\n",
              "      border-color: transparent;\n",
              "      border-left-color: var(--fill-color);\n",
              "      border-top-color: var(--fill-color);\n",
              "      border-right-color: var(--fill-color);\n",
              "    }\n",
              "    40% {\n",
              "      border-color: transparent;\n",
              "      border-right-color: var(--fill-color);\n",
              "      border-top-color: var(--fill-color);\n",
              "    }\n",
              "    60% {\n",
              "      border-color: transparent;\n",
              "      border-right-color: var(--fill-color);\n",
              "    }\n",
              "    80% {\n",
              "      border-color: transparent;\n",
              "      border-right-color: var(--fill-color);\n",
              "      border-bottom-color: var(--fill-color);\n",
              "    }\n",
              "    90% {\n",
              "      border-color: transparent;\n",
              "      border-bottom-color: var(--fill-color);\n",
              "    }\n",
              "  }\n",
              "</style>\n",
              "\n",
              "  <script>\n",
              "    async function quickchart(key) {\n",
              "      const quickchartButtonEl =\n",
              "        document.querySelector('#' + key + ' button');\n",
              "      quickchartButtonEl.disabled = true;  // To prevent multiple clicks.\n",
              "      quickchartButtonEl.classList.add('colab-df-spinner');\n",
              "      try {\n",
              "        const charts = await google.colab.kernel.invokeFunction(\n",
              "            'suggestCharts', [key], {});\n",
              "      } catch (error) {\n",
              "        console.error('Error during call to suggestCharts:', error);\n",
              "      }\n",
              "      quickchartButtonEl.classList.remove('colab-df-spinner');\n",
              "      quickchartButtonEl.classList.add('colab-df-quickchart-complete');\n",
              "    }\n",
              "    (() => {\n",
              "      let quickchartButtonEl =\n",
              "        document.querySelector('#df-52ef8738-f9f1-4d21-84e8-1a3c54a6c12f button');\n",
              "      quickchartButtonEl.style.display =\n",
              "        google.colab.kernel.accessAllowed ? 'block' : 'none';\n",
              "    })();\n",
              "  </script>\n",
              "</div>\n",
              "\n",
              "    </div>\n",
              "  </div>\n"
            ],
            "text/plain": [
              "                                             Article\n",
              "0  Retailers, the makers of foods marketed for we...\n",
              "1  Move over, Ozempic — there’s a new drug in tow...\n",
              "2  Sept 14 (Reuters) - Bristol Myers Squibb (BMY....\n",
              "3  Austin Wolcott was 18 years old and pretty sur...\n",
              "4  Cancer, often referred to as the “emperor of a..."
            ]
          },
          "execution_count": 5,
          "metadata": {},
          "output_type": "execute_result"
        }
      ],
      "source": [
        "df.head()"
      ]
    },
    {
      "cell_type": "code",
      "execution_count": null,
      "metadata": {
        "id": "AABTcH_GMAjI"
      },
      "outputs": [],
      "source": [
        "def clean_text(text):\n",
        "    text = re.sub(r'[^\\w\\s]', '', text)\n",
        "    tokens = word_tokenize(text)\n",
        "    tokens = [word for word in tokens if word.lower() not in stopwords.words('english')]\n",
        "    cleaned_text = ' '.join(tokens)\n",
        "    return cleaned_text\n",
        "df['Cleaned_Article'] = df['Article'].apply(clean_text)"
      ]
    },
    {
      "cell_type": "code",
      "execution_count": null,
      "metadata": {
        "id": "u9T8ZLqZMFYA"
      },
      "outputs": [],
      "source": [
        "sia = SentimentIntensityAnalyzer()\n",
        "\n",
        "def analyze_mood(text):\n",
        "    sentiment = sia.polarity_scores(text)\n",
        "    if sentiment['compound'] >= 0.05:\n",
        "        return 'Positive'\n",
        "    elif sentiment['compound'] <= -0.05:\n",
        "        return 'Negative'\n",
        "    else:\n",
        "        return 'Neutral'\n",
        "df['Mood'] = df['Cleaned_Article'].apply(analyze_mood)"
      ]
    },
    {
      "cell_type": "code",
      "execution_count": null,
      "metadata": {
        "colab": {
          "base_uri": "https://localhost:8080/"
        },
        "id": "30XN8KqbMJ5j",
        "outputId": "3098a526-e04d-4ecd-aac5-38d03c2de6ea"
      },
      "outputs": [
        {
          "name": "stdout",
          "output_type": "stream",
          "text": [
            "Common Themes:  ['account' 'also' 'cancer' 'cart' 'firm' 'new' 'nike' 'patients' 'said'\n",
            " 'taco']\n"
          ]
        }
      ],
      "source": [
        "vectorizer = CountVectorizer(max_features=10)\n",
        "X = vectorizer.fit_transform(df['Cleaned_Article'])\n",
        "common_words = vectorizer.get_feature_names_out()\n",
        "print(\"Common Themes: \", common_words)"
      ]
    },
    {
      "cell_type": "code",
      "execution_count": null,
      "metadata": {
        "colab": {
          "base_uri": "https://localhost:8080/"
        },
        "id": "situEXFEMR8g",
        "outputId": "56f40090-dc6f-41d5-e9a6-d0848a56a411"
      },
      "outputs": [
        {
          "name": "stdout",
          "output_type": "stream",
          "text": [
            "                                             Article  \\\n",
            "0  Retailers, the makers of foods marketed for we...   \n",
            "1  Move over, Ozempic — there’s a new drug in tow...   \n",
            "2  Sept 14 (Reuters) - Bristol Myers Squibb (BMY....   \n",
            "3  Austin Wolcott was 18 years old and pretty sur...   \n",
            "4  Cancer, often referred to as the “emperor of a...   \n",
            "\n",
            "                                     Cleaned_Article      Mood  \n",
            "0  Retailers makers foods marketed weight loss ty...  Positive  \n",
            "1  Move Ozempic theres new drug town Eli Lillys Z...  Negative  \n",
            "2  Sept 14 Reuters Bristol Myers Squibb BMYN said...  Negative  \n",
            "3  Austin Wolcott 18 years old pretty sure wouldn...  Negative  \n",
            "4  Cancer often referred emperor maladies unyield...  Negative  \n"
          ]
        }
      ],
      "source": [
        "print(df[['Article', 'Cleaned_Article', 'Mood']].head())\n",
        "df.to_csv('analysis_results.csv', index=False)"
      ]
    },
    {
      "cell_type": "code",
      "execution_count": null,
      "metadata": {
        "colab": {
          "base_uri": "https://localhost:8080/"
        },
        "id": "SNCumSGGNhOW",
        "outputId": "d21c9ea4-7771-41ae-cae9-280ed8da9bbf"
      },
      "outputs": [
        {
          "name": "stdout",
          "output_type": "stream",
          "text": [
            "                                              Article  \\\n",
            "20  Nike (NYSE:NKE) is the leader when it comes to...   \n",
            "21  Oct 23 (Reuters) - Unilever (ULVR.L) and a cha...   \n",
            "22  LONDON, Sept 19 (Reuters) - Nestle said on Tue...   \n",
            "23  Get Smart About News, modeled on the Sift, is ...   \n",
            "24  Editorial Note: Blueprint may earn a commissio...   \n",
            "\n",
            "                                      Cleaned_Article      Mood  \n",
            "20  Nike NYSENKE leader comes consumer sportswear ...  Positive  \n",
            "21  Oct 23 Reuters Unilever ULVRL charity supporti...  Negative  \n",
            "22  LONDON Sept 19 Reuters Nestle said Tuesday pic...  Positive  \n",
            "23  Get Smart News modeled Sift free weekly newsle...  Positive  \n",
            "24  Editorial Note Blueprint may earn commission a...  Positive  \n"
          ]
        }
      ],
      "source": [
        "print(df[['Article', 'Cleaned_Article', 'Mood']].tail())"
      ]
    },
    {
      "cell_type": "code",
      "execution_count": null,
      "metadata": {
        "colab": {
          "base_uri": "https://localhost:8080/"
        },
        "id": "zRXFtUpnObbu",
        "outputId": "cfec93a0-5f3f-4240-d1f1-8f5e5a47ab2d"
      },
      "outputs": [
        {
          "name": "stdout",
          "output_type": "stream",
          "text": [
            "                                              Article  \\\n",
            "0   Retailers, the makers of foods marketed for we...   \n",
            "1   Move over, Ozempic — there’s a new drug in tow...   \n",
            "2   Sept 14 (Reuters) - Bristol Myers Squibb (BMY....   \n",
            "3   Austin Wolcott was 18 years old and pretty sur...   \n",
            "4   Cancer, often referred to as the “emperor of a...   \n",
            "5   Nov 28 (Reuters) - The U.S. Food and Drug Admi...   \n",
            "6   Nov 21 (Reuters) - BeiGene (6160.HK) said on T...   \n",
            "7   Sept 19 (Reuters) - Drugmaker BeiGene (6160.HK...   \n",
            "8   BRUKINSA is the first and only BTK inhibitor a...   \n",
            "9   Whether you're looking for a quick bite to eat...   \n",
            "10  A federal judge in New York has dismissed a la...   \n",
            "11  The future of fast food delivery is here.\\n\\nD...   \n",
            "12  Yum Brands topped Wall Street estimates for th...   \n",
            "13  If you fancy Taco Bell's Nacho Fries, the fast...   \n",
            "14  Taco Bell is serving up its new Toasted Breakf...   \n",
            "15  Oct 30 (Reuters) - McDonald's (MCD.N) beat Wal...   \n",
            "16  Whether you dip it, drizzle it, or put it on c...   \n",
            "17  The parent company of Taco Bell, KFC and Pizza...   \n",
            "18  Having announced a collaboration with Nike in ...   \n",
            "19  Strava has now made it possible for the Nike R...   \n",
            "20  Nike (NYSE:NKE) is the leader when it comes to...   \n",
            "21  Oct 23 (Reuters) - Unilever (ULVR.L) and a cha...   \n",
            "22  LONDON, Sept 19 (Reuters) - Nestle said on Tue...   \n",
            "23  Get Smart About News, modeled on the Sift, is ...   \n",
            "24  Editorial Note: Blueprint may earn a commissio...   \n",
            "\n",
            "                                      Cleaned_Article      Mood  \n",
            "0   Retailers makers foods marketed weight loss ty...  Positive  \n",
            "1   Move Ozempic theres new drug town Eli Lillys Z...  Negative  \n",
            "2   Sept 14 Reuters Bristol Myers Squibb BMYN said...  Negative  \n",
            "3   Austin Wolcott 18 years old pretty sure wouldn...  Negative  \n",
            "4   Cancer often referred emperor maladies unyield...  Negative  \n",
            "5   Nov 28 Reuters US Food Drug Administration FDA...  Negative  \n",
            "6   Nov 21 Reuters BeiGene 6160HK said Tuesday ent...  Positive  \n",
            "7   Sept 19 Reuters Drugmaker BeiGene 6160HK said ...  Negative  \n",
            "8   BRUKINSA first BTK inhibitor approved follicul...  Positive  \n",
            "9   Whether youre looking quick bite eat sitdown e...  Positive  \n",
            "10  federal judge New York dismissed lawsuit accus...  Negative  \n",
            "11  future fast food delivery Diners within 12mile...  Positive  \n",
            "12  Yum Brands topped Wall Street estimates thirdq...  Positive  \n",
            "13  fancy Taco Bells Nacho Fries fastfood chain tw...  Positive  \n",
            "14  Taco Bell serving new Toasted Breakfast Tacos ...  Positive  \n",
            "15  Oct 30 Reuters McDonalds MCDN beat Wall Street...  Positive  \n",
            "16  Whether dip drizzle put chicken nuggets french...  Positive  \n",
            "17  parent company Taco Bell KFC Pizza Hut using a...  Positive  \n",
            "18  announced collaboration Nike May 2023 Strava l...  Positive  \n",
            "19  Strava made possible Nike Run Club NRC Nike Tr...  Positive  \n",
            "20  Nike NYSENKE leader comes consumer sportswear ...  Positive  \n",
            "21  Oct 23 Reuters Unilever ULVRL charity supporti...  Negative  \n",
            "22  LONDON Sept 19 Reuters Nestle said Tuesday pic...  Positive  \n",
            "23  Get Smart News modeled Sift free weekly newsle...  Positive  \n",
            "24  Editorial Note Blueprint may earn commission a...  Positive  \n"
          ]
        }
      ],
      "source": [
        "print(df[['Article', 'Cleaned_Article', 'Mood']])"
      ]
    },
    {
      "cell_type": "code",
      "execution_count": null,
      "metadata": {
        "id": "FPS15YF_WvY9"
      },
      "outputs": [],
      "source": [
        "keywords_ai = ['artificial intelligence', 'AI', 'machine learning', 'deep learning']\n",
        "keywords_cybersecurity = ['cybersecurity', 'cyber attacks', 'data breach', 'security']\n",
        "keywords_healthcare = ['healthcare', 'digital health', 'medical technology']"
      ]
    },
    {
      "cell_type": "code",
      "execution_count": null,
      "metadata": {
        "id": "Sn2z3in4aOtK"
      },
      "outputs": [],
      "source": [
        "def count_theme_keywords(text, keywords):\n",
        "    count = 0\n",
        "    for keyword in keywords:\n",
        "        if keyword in text:\n",
        "            count += 1\n",
        "    return count"
      ]
    },
    {
      "cell_type": "code",
      "execution_count": null,
      "metadata": {
        "colab": {
          "base_uri": "https://localhost:8080/"
        },
        "id": "Sf5kak-taQFX",
        "outputId": "d870a31b-f17f-406c-b537-461751b48985"
      },
      "outputs": [
        {
          "name": "stdout",
          "output_type": "stream",
          "text": [
            "0     0\n",
            "1     0\n",
            "2     0\n",
            "3     0\n",
            "4     0\n",
            "5     0\n",
            "6     0\n",
            "7     0\n",
            "8     0\n",
            "9     0\n",
            "10    0\n",
            "11    0\n",
            "12    0\n",
            "13    0\n",
            "14    0\n",
            "15    0\n",
            "16    0\n",
            "17    2\n",
            "18    0\n",
            "19    0\n",
            "20    0\n",
            "21    0\n",
            "22    0\n",
            "23    1\n",
            "24    0\n",
            "Name: AI_Keyword_Count, dtype: int64\n",
            "0     1\n",
            "1     0\n",
            "2     0\n",
            "3     0\n",
            "4     0\n",
            "5     0\n",
            "6     0\n",
            "7     0\n",
            "8     0\n",
            "9     0\n",
            "10    0\n",
            "11    0\n",
            "12    0\n",
            "13    0\n",
            "14    0\n",
            "15    0\n",
            "16    0\n",
            "17    0\n",
            "18    0\n",
            "19    0\n",
            "20    0\n",
            "21    0\n",
            "22    0\n",
            "23    0\n",
            "24    0\n",
            "Name: Cybersecurity_Keyword_Count, dtype: int64\n",
            "0     0\n",
            "1     1\n",
            "2     0\n",
            "3     0\n",
            "4     1\n",
            "5     0\n",
            "6     0\n",
            "7     0\n",
            "8     0\n",
            "9     0\n",
            "10    0\n",
            "11    0\n",
            "12    0\n",
            "13    0\n",
            "14    0\n",
            "15    0\n",
            "16    0\n",
            "17    0\n",
            "18    0\n",
            "19    0\n",
            "20    0\n",
            "21    0\n",
            "22    0\n",
            "23    0\n",
            "24    0\n",
            "Name: Healthcare_Keyword_Count, dtype: int64\n"
          ]
        }
      ],
      "source": [
        "df['AI_Keyword_Count'] = df['Cleaned_Article'].apply(lambda x: count_theme_keywords(x, keywords_ai))\n",
        "print(df['AI_Keyword_Count'])\n",
        "df['Cybersecurity_Keyword_Count'] = df['Cleaned_Article'].apply(lambda x: count_theme_keywords(x, keywords_cybersecurity))\n",
        "print(df['Cybersecurity_Keyword_Count'])\n",
        "df['Healthcare_Keyword_Count'] = df['Cleaned_Article'].apply(lambda x: count_theme_keywords(x, keywords_healthcare))\n",
        "print(df['Healthcare_Keyword_Count'])"
      ]
    },
    {
      "cell_type": "code",
      "execution_count": null,
      "metadata": {
        "id": "byb0oyFWaUWm"
      },
      "outputs": [],
      "source": [
        "def determine_field(ai_count, cybersecurity_count, healthcare_count):\n",
        "    if ai_count > cybersecurity_count and ai_count > healthcare_count:\n",
        "        return 'Advancements in artificial intelligence'\n",
        "    elif cybersecurity_count > ai_count and cybersecurity_count > healthcare_count:\n",
        "        return 'Growing cybersecurity concerns'\n",
        "    elif healthcare_count > ai_count and healthcare_count > cybersecurity_count:\n",
        "        return 'Digital transformation in healthcare'\n",
        "    else:\n",
        "        return 'Uncategorized'"
      ]
    },
    {
      "cell_type": "code",
      "execution_count": null,
      "metadata": {
        "id": "RuVo-C0jaacj"
      },
      "outputs": [],
      "source": [
        "df['Field'] = df.apply(lambda row: determine_field(row['AI_Keyword_Count'], row['Cybersecurity_Keyword_Count'], row['Healthcare_Keyword_Count']), axis=1)"
      ]
    },
    {
      "cell_type": "code",
      "execution_count": null,
      "metadata": {
        "colab": {
          "base_uri": "https://localhost:8080/"
        },
        "id": "xUvR_nJVabHn",
        "outputId": "31619733-a5d8-4c19-f917-d050ce71a410"
      },
      "outputs": [
        {
          "name": "stdout",
          "output_type": "stream",
          "text": [
            "                                              Article  \\\n",
            "0   Retailers, the makers of foods marketed for we...   \n",
            "1   Move over, Ozempic — there’s a new drug in tow...   \n",
            "2   Sept 14 (Reuters) - Bristol Myers Squibb (BMY....   \n",
            "3   Austin Wolcott was 18 years old and pretty sur...   \n",
            "4   Cancer, often referred to as the “emperor of a...   \n",
            "5   Nov 28 (Reuters) - The U.S. Food and Drug Admi...   \n",
            "6   Nov 21 (Reuters) - BeiGene (6160.HK) said on T...   \n",
            "7   Sept 19 (Reuters) - Drugmaker BeiGene (6160.HK...   \n",
            "8   BRUKINSA is the first and only BTK inhibitor a...   \n",
            "9   Whether you're looking for a quick bite to eat...   \n",
            "10  A federal judge in New York has dismissed a la...   \n",
            "11  The future of fast food delivery is here.\\n\\nD...   \n",
            "12  Yum Brands topped Wall Street estimates for th...   \n",
            "13  If you fancy Taco Bell's Nacho Fries, the fast...   \n",
            "14  Taco Bell is serving up its new Toasted Breakf...   \n",
            "15  Oct 30 (Reuters) - McDonald's (MCD.N) beat Wal...   \n",
            "16  Whether you dip it, drizzle it, or put it on c...   \n",
            "17  The parent company of Taco Bell, KFC and Pizza...   \n",
            "18  Having announced a collaboration with Nike in ...   \n",
            "19  Strava has now made it possible for the Nike R...   \n",
            "20  Nike (NYSE:NKE) is the leader when it comes to...   \n",
            "21  Oct 23 (Reuters) - Unilever (ULVR.L) and a cha...   \n",
            "22  LONDON, Sept 19 (Reuters) - Nestle said on Tue...   \n",
            "23  Get Smart About News, modeled on the Sift, is ...   \n",
            "24  Editorial Note: Blueprint may earn a commissio...   \n",
            "\n",
            "                                      Field  \n",
            "0            Growing cybersecurity concerns  \n",
            "1      Digital transformation in healthcare  \n",
            "2                             Uncategorized  \n",
            "3                             Uncategorized  \n",
            "4      Digital transformation in healthcare  \n",
            "5                             Uncategorized  \n",
            "6                             Uncategorized  \n",
            "7                             Uncategorized  \n",
            "8                             Uncategorized  \n",
            "9                             Uncategorized  \n",
            "10                            Uncategorized  \n",
            "11                            Uncategorized  \n",
            "12                            Uncategorized  \n",
            "13                            Uncategorized  \n",
            "14                            Uncategorized  \n",
            "15                            Uncategorized  \n",
            "16                            Uncategorized  \n",
            "17  Advancements in artificial intelligence  \n",
            "18                            Uncategorized  \n",
            "19                            Uncategorized  \n",
            "20                            Uncategorized  \n",
            "21                            Uncategorized  \n",
            "22                            Uncategorized  \n",
            "23  Advancements in artificial intelligence  \n",
            "24                            Uncategorized  \n"
          ]
        }
      ],
      "source": [
        "print(df[['Article', 'Field']])"
      ]
    }
  ],
  "metadata": {
    "colab": {
      "provenance": [],
      "authorship_tag": "ABX9TyMoTRrJPs1N8p+Au5GPlAzt",
      "include_colab_link": true
    },
    "kernelspec": {
      "display_name": "Python 3",
      "name": "python3"
    },
    "language_info": {
      "name": "python"
    }
  },
  "nbformat": 4,
  "nbformat_minor": 0
}